{
 "cells": [
  {
   "cell_type": "code",
   "execution_count": 1,
   "id": "838bc843",
   "metadata": {},
   "outputs": [],
   "source": [
    "# Intialization\n",
    "import os\n",
    "import sys\n",
    "\n",
    "os.environ[\"SPARK_HOME\"] = \"/home/talentum/spark\"\n",
    "os.environ[\"PYLIB\"] = os.environ[\"SPARK_HOME\"] + \"/python/lib\"\n",
    "# In below two lines, use /usr/bin/python2.7 if you want to use Python 2\n",
    "os.environ[\"PYSPARK_PYTHON\"] = \"/usr/bin/python3.6\" \n",
    "os.environ[\"PYSPARK_DRIVER_PYTHON\"] = \"/usr/bin/python3\"\n",
    "sys.path.insert(0, os.environ[\"PYLIB\"] +\"/py4j-0.10.7-src.zip\")\n",
    "sys.path.insert(0, os.environ[\"PYLIB\"] +\"/pyspark.zip\")\n",
    "\n",
    "# NOTE: Whichever package you want mention here.\n",
    "# os.environ['PYSPARK_SUBMIT_ARGS'] = '--packages com.databricks:spark-xml_2.11:0.6.0 pyspark-shell' \n",
    "# os.environ['PYSPARK_SUBMIT_ARGS'] = '--packages org.apache.spark:spark-avro_2.11:2.4.0 pyspark-shell'\n",
    "os.environ['PYSPARK_SUBMIT_ARGS'] = '--packages com.databricks:spark-xml_2.11:0.6.0,org.apache.spark:spark-avro_2.11:2.4.3 pyspark-shell'\n",
    "# os.environ['PYSPARK_SUBMIT_ARGS'] = '--packages com.databricks:spark-xml_2.11:0.6.0,org.apache.spark:spark-avro_2.11:2.4.0 pyspark-shell'"
   ]
  },
  {
   "cell_type": "code",
   "execution_count": 2,
   "id": "9c4f250b",
   "metadata": {},
   "outputs": [],
   "source": [
    "#Entrypoint 2.x\n",
    "from pyspark.sql import SparkSession\n",
    "spark = SparkSession.builder.appName(\"Final Project\").enableHiveSupport().getOrCreate()\n",
    "\n",
    "# On yarn:\n",
    "# spark = SparkSession.builder.appName(\"Spark SQL basic example\").enableHiveSupport().master(\"yarn\").getOrCreate()\n",
    "# specify .master(\"yarn\")\n",
    "\n",
    "sc = spark.sparkContext"
   ]
  },
  {
   "cell_type": "code",
   "execution_count": 3,
   "id": "0445832f",
   "metadata": {},
   "outputs": [],
   "source": [
    "df=spark.read.format('parquet').load(\"file:///home/talentum/FinalTable/Parq/FReviewTable.parquet\")"
   ]
  },
  {
   "cell_type": "code",
   "execution_count": 4,
   "id": "618fb9aa",
   "metadata": {
    "scrolled": true
   },
   "outputs": [],
   "source": [
    "df_only_restors=spark.read.format('parquet').load('file:///home/talentum/FinalTable/Parq/FBusinessPar.parquet')"
   ]
  },
  {
   "cell_type": "code",
   "execution_count": 5,
   "id": "b4939034",
   "metadata": {
    "scrolled": true
   },
   "outputs": [],
   "source": [
    "#Alplphanumeric to numeric\n",
    "\n",
    "from pyspark.sql.functions import col, udf\n",
    "from pyspark.sql.types import IntegerType\n",
    "\n",
    "# Get distinct alphanumeric values and create a mapping\n",
    "unique_users = df.select(\"user_id\").distinct().rdd.flatMap(lambda x: x).collect()\n",
    "unique_items = df.select(\"business_id\").distinct().rdd.flatMap(lambda x: x).collect()\n",
    "\n",
    "user_mapping = {user: idx for idx, user in enumerate(unique_users)}\n",
    "item_mapping = {item: idx for idx, item in enumerate(unique_items)}\n",
    "\n",
    "# Define UDFs to map alphanumeric values to numeric\n",
    "def map_user(user):\n",
    "    return user_mapping.get(user, -1)\n",
    "\n",
    "def map_item(item):\n",
    "    return item_mapping.get(item, -1)\n",
    "\n",
    "udf_map_user = udf(map_user, IntegerType())\n",
    "udf_map_item = udf(map_item, IntegerType())\n",
    "\n",
    "# Apply UDFs to convert alphanumeric values to numeric\n",
    "df_numeric = df.withColumn(\"userId_numeric\", udf_map_user(col(\"user_id\"))) \\\n",
    "               .withColumn(\"itemId_numeric\", udf_map_item(col(\"business_id\")))\n",
    "\n",
    "\n"
   ]
  },
  {
   "cell_type": "code",
   "execution_count": 6,
   "id": "7ee463d8",
   "metadata": {},
   "outputs": [
    {
     "name": "stdout",
     "output_type": "stream",
     "text": [
      "DataFrame with Numeric Values and Other Columns:\n"
     ]
    },
    {
     "data": {
      "text/plain": [
       "800000"
      ]
     },
     "execution_count": 6,
     "metadata": {},
     "output_type": "execute_result"
    }
   ],
   "source": [
    "# Show converted DataFrame with numeric values and other columns\n",
    "print(\"DataFrame with Numeric Values and Other Columns:\")\n",
    "df_numeric.count()"
   ]
  },
  {
   "cell_type": "code",
   "execution_count": 7,
   "id": "0f544e63",
   "metadata": {},
   "outputs": [
    {
     "name": "stdout",
     "output_type": "stream",
     "text": [
      "DataFrame with Numeric Values and Other Columns:\n"
     ]
    },
    {
     "data": {
      "text/plain": [
       "['business_id',\n",
       " 'review_id',\n",
       " 'user_id',\n",
       " 'stars',\n",
       " 'useful',\n",
       " 'text',\n",
       " 'date',\n",
       " 'name',\n",
       " 'address',\n",
       " 'city',\n",
       " 'state',\n",
       " 'latitude',\n",
       " 'longitude',\n",
       " 'review_count',\n",
       " 'is_open',\n",
       " 'categories',\n",
       " 'yelping_since',\n",
       " 'average_stars',\n",
       " 'userId_numeric',\n",
       " 'itemId_numeric']"
      ]
     },
     "execution_count": 7,
     "metadata": {},
     "output_type": "execute_result"
    }
   ],
   "source": [
    "# Show converted DataFrame with numeric values and other columns\n",
    "print(\"DataFrame with Numeric Values and Other Columns:\")\n",
    "df_numeric.columns"
   ]
  },
  {
   "cell_type": "code",
   "execution_count": 8,
   "id": "bcba032f",
   "metadata": {},
   "outputs": [],
   "source": [
    "df_numeric=df_numeric.select(\"userId_numeric\",\"itemId_numeric\",\"stars\")\n",
    "df=df_numeric.coalesce(1)\n",
    "df_only_users=spark.read.format('parquet').load('file:///home/talentum/FinalTable/Parq/fuser.parquet')"
   ]
  },
  {
   "cell_type": "code",
   "execution_count": 9,
   "id": "801c6c67",
   "metadata": {},
   "outputs": [],
   "source": [
    "#click here Shift enter \n",
    "df_u=df_only_users.select('userId_numeric','name').coalesce(1)\n",
    "\n",
    "df_u.write.mode(\"overwrite\").parquet('file:///home/talentum/Project/ReviewDf_name/')\n",
    "df.write.mode(\"overwrite\").parquet(\"file:///home/talentum/Project/ReviewDf/\")"
   ]
  },
  {
   "cell_type": "code",
   "execution_count": 170,
   "id": "a58cb54b",
   "metadata": {},
   "outputs": [],
   "source": [
    "#!!!!!!!!!!!!!!!!!!!!!!!!!!!!!!!!!!!!!!\n",
    "#df=spark.read.format('parquet').load(\"file:///home/talentum/Project/ReviewDf\")\n"
   ]
  },
  {
   "cell_type": "code",
   "execution_count": 78,
   "id": "10127ceb",
   "metadata": {},
   "outputs": [
    {
     "data": {
      "text/plain": [
       "[Row(userId_numeric=0, itemId_numeric=7452, stars=1.0),\n",
       " Row(userId_numeric=1, itemId_numeric=696, stars=5.0),\n",
       " Row(userId_numeric=2, itemId_numeric=51395, stars=4.0),\n",
       " Row(userId_numeric=3, itemId_numeric=11736, stars=5.0),\n",
       " Row(userId_numeric=4, itemId_numeric=40457, stars=1.0),\n",
       " Row(userId_numeric=5, itemId_numeric=24933, stars=5.0),\n",
       " Row(userId_numeric=6, itemId_numeric=7126, stars=1.0),\n",
       " Row(userId_numeric=6, itemId_numeric=53821, stars=5.0),\n",
       " Row(userId_numeric=6, itemId_numeric=43764, stars=5.0),\n",
       " Row(userId_numeric=6, itemId_numeric=14466, stars=5.0),\n",
       " Row(userId_numeric=6, itemId_numeric=16892, stars=1.0),\n",
       " Row(userId_numeric=6, itemId_numeric=40458, stars=5.0),\n",
       " Row(userId_numeric=6, itemId_numeric=61551, stars=5.0),\n",
       " Row(userId_numeric=6, itemId_numeric=16892, stars=1.0),\n",
       " Row(userId_numeric=7, itemId_numeric=40459, stars=1.0),\n",
       " Row(userId_numeric=8, itemId_numeric=53489, stars=5.0),\n",
       " Row(userId_numeric=9, itemId_numeric=58241, stars=5.0),\n",
       " Row(userId_numeric=10, itemId_numeric=25280, stars=5.0),\n",
       " Row(userId_numeric=11, itemId_numeric=31226, stars=5.0),\n",
       " Row(userId_numeric=11, itemId_numeric=51396, stars=4.0)]"
      ]
     },
     "execution_count": 78,
     "metadata": {},
     "output_type": "execute_result"
    }
   ],
   "source": [
    "df.sort('userId_numeric').head(20)"
   ]
  },
  {
   "cell_type": "code",
   "execution_count": 151,
   "id": "6b43c143",
   "metadata": {},
   "outputs": [],
   "source": [
    "from pyspark.mllib.recommendation import ALS, Rating\n",
    "from pyspark.sql.functions import col\n",
    "\n",
    "# Prepare the data for ALS\n",
    "ratings = df.rdd.map(lambda row: Rating(row[\"userId_numeric\"], row[\"itemId_numeric\"], row[\"stars\"]))\n",
    "\n",
    "# Split data into training and test sets\n",
    "#training_rdd, test_rdd = ratings.randomSplit([0.8, 0.2])\n",
    "\n",
    "# Train ALS model\n",
    "rank = 10\n",
    "numIterations = 10\n",
    "block_size=-1 # parallel computing\n",
    "model = ALS.train(ratings, rank, numIterations,blocks=block_size)\n"
   ]
  },
  {
   "cell_type": "code",
   "execution_count": 160,
   "id": "12725e0c",
   "metadata": {},
   "outputs": [],
   "source": [
    "#To save the trained Model\n",
    "path ='file:///home/talentum/Project/Model'\n",
    "\n",
    "#path='dbfs:/mnt/ADLS/joinop/Model_ALS'# this is cloud stored model path \n",
    "#-------------------------------------------------------------------------\n",
    "\n",
    "# Save the ALS model\n",
    "model.save(sc,path)\n",
    "\n"
   ]
  },
  {
   "cell_type": "code",
   "execution_count": 62,
   "id": "208872b8",
   "metadata": {},
   "outputs": [],
   "source": [
    "#-------------------------------------------------------------------------\n",
    "from pyspark.sql.functions import col\n",
    "from pyspark.mllib.recommendation import MatrixFactorizationModel\n",
    "model = MatrixFactorizationModel.load(sc, path)"
   ]
  },
  {
   "cell_type": "code",
   "execution_count": 63,
   "id": "b7866d96",
   "metadata": {},
   "outputs": [],
   "source": [
    "# Function to get top 50 recomendation RETURNS A DF OBJECT\n",
    "from pyspark.sql import SparkSession\n",
    "from pyspark.sql import Row\n",
    "\n",
    "def get_top_n_recommendations(user_id, n=50):\n",
    "    # Get recommendations from the model\n",
    "    recommendations = model.recommendProducts(user_id, n)\n",
    "    \n",
    "    # Convert the recommendations to a list of Rows\n",
    "    rows = [Row(user_id=user_id, itemId_numeric=r.product, rating=r.rating) for r in recommendations]\n",
    "    \n",
    "    # Create a Spark DataFrame from the list of Rows\n",
    "    recommendations_df = spark.createDataFrame(rows)\n",
    "    \n",
    "    return recommendations_df\n"
   ]
  },
  {
   "cell_type": "code",
   "execution_count": 75,
   "id": "e0aea38c",
   "metadata": {},
   "outputs": [
    {
     "data": {
      "text/plain": [
       "800001"
      ]
     },
     "execution_count": 75,
     "metadata": {},
     "output_type": "execute_result"
    }
   ],
   "source": [
    "df_numeric"
   ]
  },
  {
   "cell_type": "code",
   "execution_count": 73,
   "id": "05ed0d12",
   "metadata": {},
   "outputs": [
    {
     "name": "stdout",
     "output_type": "stream",
     "text": [
      "+--------------+--------------------+--------------------+------------+-----+--------------------+-----+\n",
      "|itemId_numeric|                name|             address|        city|state|          categories|stars|\n",
      "+--------------+--------------------+--------------------+------------+-----+--------------------+-----+\n",
      "|         40620|Mesa Fresh Mexica...|Marple Crossroads...| Springfield|   PA|Restaurants, Burg...|  3.5|\n",
      "|         49848|Hybrid Planet Cha...|                    |   Havertown|   PA|Hotels & Travel, ...|  5.0|\n",
      "|         28493|     Texas Roadhouse|1205 E Lancaster Ave| Downingtown|   PA|Chicken Wings, Bu...|  3.0|\n",
      "|         49289|Rangoli: Vibrant ...| 10863 Bustleton Ave|Philadelphia|   PA|Pakistani, Specia...|  4.0|\n",
      "|          9141|White Jasmin Thai...|      5 West Main St|    Lansdale|   PA|Thai, Soup, Noodl...|  4.5|\n",
      "+--------------+--------------------+--------------------+------------+-----+--------------------+-----+\n",
      "\n"
     ]
    }
   ],
   "source": [
    "user_id_numeric = 11\n",
    "#u_city = \"norristown\"\n",
    "u_state = 'PA'\n",
    "u_category = ''\n",
    "u_nr=5\n",
    "\n",
    "# Get the top N recommendations for the user\n",
    "recommendations_df = get_top_n_recommendations(user_id_numeric, n=50)\n",
    "\n",
    "# Filter the main DataFrame using the recommendations\n",
    "filtered_df = df_only_restors \\\n",
    "    .filter((col('state').rlike(f\"(?i).*{u_state}.*\"))& \n",
    "            (col('categories').rlike(f\"(?i).*{u_category}.*\")))\n",
    "\n",
    "# Join the recommendations with the filtered DataFrame\n",
    "result_df = filtered_df.join(recommendations_df, on='itemId_numeric', how='inner')\n",
    "\n",
    "# Collect the top 5 results based on the rating\n",
    "top_5_results = result_df.orderBy(col(\"rating\").desc()).limit(u_nr)\n",
    "\n",
    "# Show the top 5 recommendations\n",
    "top_5_results.select('itemId_numeric','name','address', 'city',\n",
    " 'state','categories','stars').show()"
   ]
  },
  {
   "cell_type": "code",
   "execution_count": null,
   "id": "9b12fd44",
   "metadata": {},
   "outputs": [],
   "source": []
  }
 ],
 "metadata": {
  "kernelspec": {
   "display_name": "Python 3",
   "language": "python",
   "name": "python3"
  },
  "language_info": {
   "codemirror_mode": {
    "name": "ipython",
    "version": 3
   },
   "file_extension": ".py",
   "mimetype": "text/x-python",
   "name": "python",
   "nbconvert_exporter": "python",
   "pygments_lexer": "ipython3",
   "version": "3.6.9"
  }
 },
 "nbformat": 4,
 "nbformat_minor": 5
}
